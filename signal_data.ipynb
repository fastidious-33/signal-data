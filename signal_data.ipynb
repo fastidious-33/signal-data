{
 "cells": [
  {
   "cell_type": "code",
   "execution_count": 373,
   "id": "5cc3bf64",
   "metadata": {},
   "outputs": [],
   "source": [
    "import math\n",
    "import numpy as np\n",
    "import pandas as pd\n",
    "import seaborn as sns\n",
    "import matplotlib.pyplot as plt\n",
    "import json\n",
    "import re\n",
    "from datetime import datetime\n",
    "\n",
    "#from sklearn.impute import SimpleImputer\n",
    "#from scipy import interpolate\n",
    "from sklearn.preprocessing import LabelEncoder\n",
    "\n",
    "from nltk import word_tokenize\n",
    "\n",
    "pd.set_option('max_columns', None)\n",
    "pd.set_option('max_rows', 1000)\n",
    "\n",
    "from IPython.display import set_matplotlib_formats\n",
    "set_matplotlib_formats('png')"
   ]
  },
  {
   "cell_type": "code",
   "execution_count": 374,
   "id": "60844cd2",
   "metadata": {},
   "outputs": [],
   "source": [
    "sns.set_context('notebook')"
   ]
  },
  {
   "cell_type": "markdown",
   "id": "057adcdf",
   "metadata": {},
   "source": [
    "Load json Dataset"
   ]
  },
  {
   "cell_type": "code",
   "execution_count": 375,
   "id": "497331b4",
   "metadata": {},
   "outputs": [],
   "source": [
    "with open(\"/Users/anjalirajwade/Downloads/signals_all.json\")as f:\n",
    "    data = json.load(f)"
   ]
  },
  {
   "cell_type": "code",
   "execution_count": 376,
   "id": "6971158d",
   "metadata": {},
   "outputs": [],
   "source": [
    "df = pd.json_normalize(data, sep = \"_\")  # since json file is not flattened so we need to normalize it"
   ]
  },
  {
   "cell_type": "code",
   "execution_count": 377,
   "id": "6198e98f",
   "metadata": {
    "scrolled": true
   },
   "outputs": [],
   "source": [
    "#df.head(1000)"
   ]
  },
  {
   "cell_type": "markdown",
   "id": "385a7ab4",
   "metadata": {},
   "source": [
    "Clean data & EDA"
   ]
  },
  {
   "cell_type": "code",
   "execution_count": 378,
   "id": "d5aac543",
   "metadata": {},
   "outputs": [
    {
     "name": "stdout",
     "output_type": "stream",
     "text": [
      "<class 'pandas.core.frame.DataFrame'>\n",
      "RangeIndex: 7258 entries, 0 to 7257\n",
      "Data columns (total 8 columns):\n",
      " #   Column             Non-Null Count  Dtype  \n",
      "---  ------             --------------  -----  \n",
      " 0   user_id            7258 non-null   object \n",
      " 1   app                7258 non-null   object \n",
      " 2   signalType         7258 non-null   object \n",
      " 3   product_id         4506 non-null   object \n",
      " 4   query_term         7258 non-null   object \n",
      " 5   _id_$oid           7258 non-null   object \n",
      " 6   createdDate_$date  7258 non-null   object \n",
      " 7   seenfor            2358 non-null   float64\n",
      "dtypes: float64(1), object(7)\n",
      "memory usage: 453.8+ KB\n"
     ]
    }
   ],
   "source": [
    "df.info()"
   ]
  },
  {
   "cell_type": "code",
   "execution_count": 379,
   "id": "20fe79c2",
   "metadata": {},
   "outputs": [],
   "source": [
    "#df.describe(include='all',datetime_is_numeric=True)"
   ]
  },
  {
   "cell_type": "markdown",
   "id": "a61f00fe",
   "metadata": {},
   "source": [
    "change date format to datetime from object"
   ]
  },
  {
   "cell_type": "code",
   "execution_count": 380,
   "id": "405e90f2",
   "metadata": {},
   "outputs": [],
   "source": [
    "df['createdDate_$date']= pd.to_datetime(df['createdDate_$date']) \n",
    "df['createdDate_$date'] = df['createdDate_$date'].values.astype(dtype='datetime64[ms]')"
   ]
  },
  {
   "cell_type": "code",
   "execution_count": null,
   "id": "d1a6ad38",
   "metadata": {},
   "outputs": [],
   "source": []
  },
  {
   "cell_type": "markdown",
   "id": "be88a1c9",
   "metadata": {},
   "source": [
    "extract features from query term"
   ]
  },
  {
   "cell_type": "code",
   "execution_count": 381,
   "id": "d2a1c951",
   "metadata": {},
   "outputs": [],
   "source": [
    "df['query_term_s']  = df['query_term'].apply(lambda x : re.split(':',x)) # split using :"
   ]
  },
  {
   "cell_type": "code",
   "execution_count": 382,
   "id": "ca01c532",
   "metadata": {},
   "outputs": [],
   "source": [
    "df['query_term_2'] = df.query_term_s.apply(lambda x : x[-1] ) # get the second query"
   ]
  },
  {
   "cell_type": "code",
   "execution_count": 383,
   "id": "11a75c1c",
   "metadata": {},
   "outputs": [],
   "source": [
    "def que1(x):      # def a user def function to clean query_s \n",
    "    if '&' not in x :\n",
    "        return 'None'\n",
    "    else:\n",
    "        return re.split('&',x)"
   ]
  },
  {
   "cell_type": "code",
   "execution_count": 384,
   "id": "ead82274",
   "metadata": {},
   "outputs": [],
   "source": [
    "df['query_term_s'] = df.query_term_s.apply(lambda x : que1(x[0]))  "
   ]
  },
  {
   "cell_type": "code",
   "execution_count": 385,
   "id": "1e76a10f",
   "metadata": {},
   "outputs": [],
   "source": [
    "def que1_d(x):     # def a user def function to clean query_s and get query_1\n",
    "    if type(x) == list:\n",
    "        return x[0]\n",
    "    else:\n",
    "        return 'None'"
   ]
  },
  {
   "cell_type": "code",
   "execution_count": 386,
   "id": "2d0ea607",
   "metadata": {},
   "outputs": [],
   "source": [
    "df['query_term_1'] = df.query_term_s.apply(lambda x : que1_d(x) ) # get the first query"
   ]
  },
  {
   "cell_type": "code",
   "execution_count": 387,
   "id": "1412bb2d",
   "metadata": {},
   "outputs": [],
   "source": [
    "df = df.drop(['query_term_s','_id_$oid'],axis=1) # drop values not needed"
   ]
  },
  {
   "cell_type": "code",
   "execution_count": null,
   "id": "5c72d9a3",
   "metadata": {},
   "outputs": [],
   "source": []
  },
  {
   "cell_type": "markdown",
   "id": "c980011f",
   "metadata": {},
   "source": [
    " clean product_id "
   ]
  },
  {
   "cell_type": "code",
   "execution_count": 388,
   "id": "ad2e7ac3",
   "metadata": {},
   "outputs": [],
   "source": [
    "df['product_id'] = df.product_id.fillna(method='ffill') # fill missing "
   ]
  },
  {
   "cell_type": "code",
   "execution_count": 389,
   "id": "c69f5db7",
   "metadata": {},
   "outputs": [],
   "source": [
    "le =  LabelEncoder()\n",
    "df['product_id'] = le.fit_transform(df['product_id'])"
   ]
  },
  {
   "cell_type": "markdown",
   "id": "7f1e5b78",
   "metadata": {},
   "source": [
    "Create a new feature"
   ]
  },
  {
   "cell_type": "code",
   "execution_count": 430,
   "id": "5b3c99bd",
   "metadata": {},
   "outputs": [],
   "source": [
    "df[\"UserFreq\"] = (df.groupby(\"user_id\")[\"user_id\"].transform(\"count\")/df.user_id.count()) \n",
    "# calculate the frequency with which each user_id occurs in the dataset"
   ]
  },
  {
   "cell_type": "code",
   "execution_count": 453,
   "id": "54c3fde2",
   "metadata": {},
   "outputs": [],
   "source": [
    "df['day'] = df['createdDate_$date'].dt.day_name()\n",
    "df[\"day_freq\"] = (df.groupby(\"day\")[\"day\"].transform(\"count\")/df.day.count()) \n"
   ]
  },
  {
   "cell_type": "code",
   "execution_count": null,
   "id": "922a7559",
   "metadata": {},
   "outputs": [],
   "source": []
  },
  {
   "cell_type": "code",
   "execution_count": 455,
   "id": "6a0d7e3e",
   "metadata": {},
   "outputs": [
    {
     "data": {
      "text/html": [
       "<div>\n",
       "<style scoped>\n",
       "    .dataframe tbody tr th:only-of-type {\n",
       "        vertical-align: middle;\n",
       "    }\n",
       "\n",
       "    .dataframe tbody tr th {\n",
       "        vertical-align: top;\n",
       "    }\n",
       "\n",
       "    .dataframe thead th {\n",
       "        text-align: right;\n",
       "    }\n",
       "</style>\n",
       "<table border=\"1\" class=\"dataframe\">\n",
       "  <thead>\n",
       "    <tr style=\"text-align: right;\">\n",
       "      <th></th>\n",
       "      <th>user_id</th>\n",
       "      <th>app</th>\n",
       "      <th>signalType</th>\n",
       "      <th>product_id</th>\n",
       "      <th>query_term</th>\n",
       "      <th>createdDate_$date</th>\n",
       "      <th>seenfor</th>\n",
       "      <th>query_term_2</th>\n",
       "      <th>query_term_1</th>\n",
       "      <th>UserFreq</th>\n",
       "      <th>day</th>\n",
       "      <th>day_freq</th>\n",
       "    </tr>\n",
       "  </thead>\n",
       "  <tbody>\n",
       "    <tr>\n",
       "      <th>0</th>\n",
       "      <td>user5</td>\n",
       "      <td>NewCommerceSolr</td>\n",
       "      <td>view</td>\n",
       "      <td>326</td>\n",
       "      <td>shirts&amp;param=L2Category:women</td>\n",
       "      <td>2019-06-11 13:55:49.504</td>\n",
       "      <td>NaN</td>\n",
       "      <td>women</td>\n",
       "      <td>shirts</td>\n",
       "      <td>0.099752</td>\n",
       "      <td>Tuesday</td>\n",
       "      <td>0.177046</td>\n",
       "    </tr>\n",
       "    <tr>\n",
       "      <th>1</th>\n",
       "      <td>user5</td>\n",
       "      <td>NewCommerceSolr</td>\n",
       "      <td>view</td>\n",
       "      <td>445</td>\n",
       "      <td>earrings&amp;param=L2Category:jewelry</td>\n",
       "      <td>2019-06-11 13:55:39.180</td>\n",
       "      <td>NaN</td>\n",
       "      <td>jewelry</td>\n",
       "      <td>earrings</td>\n",
       "      <td>0.099752</td>\n",
       "      <td>Tuesday</td>\n",
       "      <td>0.177046</td>\n",
       "    </tr>\n",
       "    <tr>\n",
       "      <th>2</th>\n",
       "      <td>user5</td>\n",
       "      <td>NewCommerceSolr</td>\n",
       "      <td>view</td>\n",
       "      <td>229</td>\n",
       "      <td>earrings&amp;param=L2Category:jewelry</td>\n",
       "      <td>2019-06-11 13:54:57.109</td>\n",
       "      <td>NaN</td>\n",
       "      <td>jewelry</td>\n",
       "      <td>earrings</td>\n",
       "      <td>0.099752</td>\n",
       "      <td>Tuesday</td>\n",
       "      <td>0.177046</td>\n",
       "    </tr>\n",
       "    <tr>\n",
       "      <th>3</th>\n",
       "      <td>user5</td>\n",
       "      <td>NewCommerceSolr</td>\n",
       "      <td>view</td>\n",
       "      <td>710</td>\n",
       "      <td>shirts&amp;param=L2Category:women</td>\n",
       "      <td>2019-06-11 14:08:54.483</td>\n",
       "      <td>NaN</td>\n",
       "      <td>women</td>\n",
       "      <td>shirts</td>\n",
       "      <td>0.099752</td>\n",
       "      <td>Tuesday</td>\n",
       "      <td>0.177046</td>\n",
       "    </tr>\n",
       "    <tr>\n",
       "      <th>4</th>\n",
       "      <td>user5</td>\n",
       "      <td>NewCommerceSolr</td>\n",
       "      <td>view</td>\n",
       "      <td>153</td>\n",
       "      <td>shirts&amp;param=L2Category:women</td>\n",
       "      <td>2019-06-11 14:12:19.973</td>\n",
       "      <td>NaN</td>\n",
       "      <td>women</td>\n",
       "      <td>shirts</td>\n",
       "      <td>0.099752</td>\n",
       "      <td>Tuesday</td>\n",
       "      <td>0.177046</td>\n",
       "    </tr>\n",
       "  </tbody>\n",
       "</table>\n",
       "</div>"
      ],
      "text/plain": [
       "  user_id              app signalType  product_id  \\\n",
       "0   user5  NewCommerceSolr       view         326   \n",
       "1   user5  NewCommerceSolr       view         445   \n",
       "2   user5  NewCommerceSolr       view         229   \n",
       "3   user5  NewCommerceSolr       view         710   \n",
       "4   user5  NewCommerceSolr       view         153   \n",
       "\n",
       "                          query_term       createdDate_$date  seenfor  \\\n",
       "0      shirts&param=L2Category:women 2019-06-11 13:55:49.504      NaN   \n",
       "1  earrings&param=L2Category:jewelry 2019-06-11 13:55:39.180      NaN   \n",
       "2  earrings&param=L2Category:jewelry 2019-06-11 13:54:57.109      NaN   \n",
       "3      shirts&param=L2Category:women 2019-06-11 14:08:54.483      NaN   \n",
       "4      shirts&param=L2Category:women 2019-06-11 14:12:19.973      NaN   \n",
       "\n",
       "  query_term_2 query_term_1  UserFreq      day  day_freq  \n",
       "0        women       shirts  0.099752  Tuesday  0.177046  \n",
       "1      jewelry     earrings  0.099752  Tuesday  0.177046  \n",
       "2      jewelry     earrings  0.099752  Tuesday  0.177046  \n",
       "3        women       shirts  0.099752  Tuesday  0.177046  \n",
       "4        women       shirts  0.099752  Tuesday  0.177046  "
      ]
     },
     "execution_count": 455,
     "metadata": {},
     "output_type": "execute_result"
    }
   ],
   "source": [
    "df.head(5)"
   ]
  },
  {
   "cell_type": "code",
   "execution_count": 468,
   "id": "d0e28965",
   "metadata": {},
   "outputs": [
    {
     "data": {
      "text/plain": [
       "<Figure size 1440x1440 with 0 Axes>"
      ]
     },
     "metadata": {},
     "output_type": "display_data"
    },
    {
     "data": {
      "image/png": "[encoded data removed]",
      "text/plain": [
       "<Figure size 360x360 with 1 Axes>"
      ]
     },
     "metadata": {
      "needs_background": "light"
     },
     "output_type": "display_data"
    }
   ],
   "source": [
    "plt.figure(figsize=(20,20))\n",
    "sns.catplot(x = 'day_freq' , kind = 'count' , data = df , col = 'user_id') # week starts form monday\n",
    "plt.xlabel('Users')\n",
    "plt.title('User activity on weekdays')\n",
    "plt.show()"
   ]
  },
  {
   "cell_type": "code",
   "execution_count": 441,
   "id": "e889c8ae",
   "metadata": {},
   "outputs": [
    {
     "data": {
      "image/png": "[encoded data removed]",
      "text/plain": [
       "<Figure size 720x720 with 1 Axes>"
      ]
     },
     "metadata": {
      "needs_background": "light"
     },
     "output_type": "display_data"
    }
   ],
   "source": [
    "plt.figure(figsize=(10,10))\n",
    "ax = sns.barplot(x = df['createdDate_$date'].dt.weekday , y = df['createdDate_$date'].dt.hour )\n",
    "ax.set_xticklabels(['mon','tue','wed','thu','fri','sat','sun'])\n",
    "ax.set_xlabel('days of week')\n",
    "ax.set_ylabel('hours')\n",
    "plt.show()"
   ]
  },
  {
   "cell_type": "code",
   "execution_count": null,
   "id": "e7e2613c",
   "metadata": {},
   "outputs": [],
   "source": []
  },
  {
   "cell_type": "code",
   "execution_count": 411,
   "id": "98ec37e9",
   "metadata": {},
   "outputs": [
    {
     "data": {
      "text/plain": [
       "Index(['user_id', 'app', 'signalType', 'product_id', 'query_term',\n",
       "       'createdDate_$date', 'seenfor', 'query_term_2', 'query_term_1'],\n",
       "      dtype='object')"
      ]
     },
     "execution_count": 411,
     "metadata": {},
     "output_type": "execute_result"
    }
   ],
   "source": [
    "df.columns"
   ]
  },
  {
   "cell_type": "code",
   "execution_count": 235,
   "id": "92065b55",
   "metadata": {},
   "outputs": [],
   "source": [
    "#plt.figure(figsize=(10,10))\n",
    "#sns.catplot(x = 'user_id', hue = 'day', data = df)\n",
    "#plt.show()"
   ]
  },
  {
   "cell_type": "code",
   "execution_count": 236,
   "id": "cddf1d4b",
   "metadata": {},
   "outputs": [],
   "source": [
    "#plt.figure(figsize=(15,10))\n",
    "#ax = sns.countplot(df['new_date'].dt.month , hue = df['new_date'].dt.day_name()) # since primarily all data collected was during office hours\n",
    "#plt.legend(['mon','tue','wed','thu','fri','sat','sun'])\n",
    "#ax.set_xlabel('months')\n",
    "#plt.show()"
   ]
  },
  {
   "cell_type": "code",
   "execution_count": 237,
   "id": "3ee1a558",
   "metadata": {},
   "outputs": [],
   "source": [
    "#plt.figure(figsize=(20, 300), dpi=50)\n",
    "#ax = sns.countplot(y = df.query_term_2[df['signalType'] == 'query'])\n",
    "#plt.tick_params(axis='x', labelsize=10)\n",
    "#plt.tick_params(axis='y', labelsize=20)\n",
    "#plt.legend(loc=1)"
   ]
  },
  {
   "cell_type": "code",
   "execution_count": 238,
   "id": "82d147c3",
   "metadata": {},
   "outputs": [],
   "source": [
    "#plt.figure(figsize=(20, 50), dpi=50)\n",
    "#ax = sns.countplot(y = df.query_term_1[df['query_term_1'] != 'None'] )\n",
    "#plt.tick_params(axis='x', labelsize=20)\n",
    "#plt.tick_params(axis='y', labelsize=20)"
   ]
  },
  {
   "cell_type": "code",
   "execution_count": 239,
   "id": "95086f28",
   "metadata": {},
   "outputs": [],
   "source": [
    "#plt.figure(figsize=(10,10))\n",
    "#ax = sns.countplot(x = df1.seenfor_1 )\n",
    "#ax.set_xticklabels(['0 sec viewed', 'viewed more than 0 sec'])\n"
   ]
  },
  {
   "cell_type": "code",
   "execution_count": 240,
   "id": "9cd8f8f4",
   "metadata": {},
   "outputs": [],
   "source": [
    "#corremat = df1.corr()      # plot heatmap . convert values \n",
    "#plt.figure(figsize=(10,10))\n",
    "#g= sns.heatmap(df1.corr(),annot=True,cmap='viridis',linewidths=.5)"
   ]
  },
  {
   "cell_type": "code",
   "execution_count": 241,
   "id": "cbf40b3c",
   "metadata": {},
   "outputs": [],
   "source": [
    "#fig = plt.figure(figsize=(20, 75), dpi=50)\n",
    "#sns.countplot(y = df1.query_term., hue=df3.seenfor_1)\n",
    "#plt.tick_params(axis='x', labelsize=15)\n",
    "#plt.tick_params(axis='y', labelsize=12)\n",
    "#plt.legend(loc=1)"
   ]
  },
  {
   "cell_type": "code",
   "execution_count": 242,
   "id": "821b9ffc",
   "metadata": {},
   "outputs": [
    {
     "data": {
      "text/plain": [
       "(2358, 10)"
      ]
     },
     "execution_count": 242,
     "metadata": {},
     "output_type": "execute_result"
    }
   ],
   "source": [
    "df1 = df.dropna(subset=['seenfor']) # data frame for dealing with seenfor data . remove nan values\n",
    "df1 = df1.reset_index(drop=True)\n",
    "df1.shape"
   ]
  },
  {
   "cell_type": "code",
   "execution_count": 228,
   "id": "695a6027",
   "metadata": {},
   "outputs": [],
   "source": [
    "df['seenfor'] = df['seenfor'].apply(lambda x : round(x/1000,1) ) #convert the given data from microsec to sec "
   ]
  },
  {
   "cell_type": "code",
   "execution_count": 243,
   "id": "fd85b19f",
   "metadata": {
    "scrolled": true
   },
   "outputs": [],
   "source": [
    "#df1.describe(include='all')"
   ]
  },
  {
   "cell_type": "code",
   "execution_count": 244,
   "id": "e9a38eac",
   "metadata": {},
   "outputs": [
    {
     "data": {
      "text/plain": [
       "(2291, 10)"
      ]
     },
     "execution_count": 244,
     "metadata": {},
     "output_type": "execute_result"
    }
   ],
   "source": [
    "df2 = df1[df1['seenfor'] < 150 ]  # dealing with under 150 sec i.e \n",
    "df2.shape"
   ]
  },
  {
   "cell_type": "code",
   "execution_count": 245,
   "id": "5e4b4100",
   "metadata": {},
   "outputs": [
    {
     "data": {
      "text/plain": [
       "(2155, 10)"
      ]
     },
     "execution_count": 245,
     "metadata": {},
     "output_type": "execute_result"
    }
   ],
   "source": [
    "df1[df1['seenfor'] < 30 ].shape"
   ]
  },
  {
   "cell_type": "code",
   "execution_count": 246,
   "id": "362a22b6",
   "metadata": {},
   "outputs": [
    {
     "data": {
      "text/plain": [
       "(491, 10)"
      ]
     },
     "execution_count": 246,
     "metadata": {},
     "output_type": "execute_result"
    }
   ],
   "source": [
    "df2 = df2[df2['seenfor'] != 0 ]\n",
    "df2 = df2.reset_index(drop=True)\n",
    "df2.shape"
   ]
  },
  {
   "cell_type": "code",
   "execution_count": 247,
   "id": "8594c94f",
   "metadata": {},
   "outputs": [],
   "source": [
    "#plt.figure(figsize=(10,10))\n",
    "#sns.relplot(y = df2.seenfor[df2['seenfor']<50]  , x = df2.index[df2['seenfor']<50],kind='scatter', hue = df2['createdDate_$date'].dt.weekday[df2['seenfor']<50],palette = 'Accent' )\n",
    "#plt.ylabel('in seconds')\n",
    "#plt.xlabel('index')\n",
    "#plt.show()"
   ]
  },
  {
   "cell_type": "code",
   "execution_count": 248,
   "id": "b87e99b6",
   "metadata": {},
   "outputs": [],
   "source": [
    "def func_sf2 (x):\n",
    "    if x <= 1: return \" 1 sec viewed\"\n",
    "    elif x <= 2 : return \" 2 sec viewed\"\n",
    "    elif x <= 3 : return \" 3 sec viewed\"\n",
    "    elif x <= 4 : return \" 4 sec viewed\"\n",
    "    elif x <= 5 : return \" 5 sec viewed\"\n",
    "    elif x <= 6 : return \" 6 sec viewed\"\n",
    "    elif x <= 7 : return \" 7 sec viewed\"\n",
    "    elif x <= 8 : return \" 8 sec viewed\"\n",
    "    elif x <= 9 : return \" 9 sec viewed\"\n",
    "    elif x <= 10 : return \" 10 sec viewed\"\n",
    "    else: return \"more than that (anamoly)\"\n",
    "    \n",
    "    "
   ]
  },
  {
   "cell_type": "code",
   "execution_count": 249,
   "id": "2a636c51",
   "metadata": {},
   "outputs": [],
   "source": [
    "df2['seenfor_1'] = df2['seenfor'].apply(func_sf2)"
   ]
  },
  {
   "cell_type": "code",
   "execution_count": 287,
   "id": "b773c139",
   "metadata": {},
   "outputs": [],
   "source": [
    "#plt.figure(figsize=(10,10))\n",
    "#ax = sns.countplot(x = df2.seenfor_1[df2['seenfor']<=2])"
   ]
  },
  {
   "cell_type": "code",
   "execution_count": 251,
   "id": "68eb6ded",
   "metadata": {},
   "outputs": [],
   "source": [
    "s1 = ['relatedProducts','UserRecommend','Promotions','FeaturedProduct','BestSellers','NewArrival',\n",
    "      'Recommend','ItemABRecommendation']\n",
    "df3 = df[df['query_term_2'] == s1[0]]\n",
    "for i in range(len(s1)) :\n",
    "    df3_1 = df[df['query_term_2'] == s1[i]]\n",
    "    df3 = df3.append(df3_1)"
   ]
  },
  {
   "cell_type": "code",
   "execution_count": 252,
   "id": "7e88641d",
   "metadata": {},
   "outputs": [
    {
     "name": "stderr",
     "output_type": "stream",
     "text": [
      "<ipython-input-252-bb9d08cd69bc>:1: FutureWarning: Treating datetime data as categorical rather than numeric in `.describe` is deprecated and will be removed in a future version of pandas. Specify `datetime_is_numeric=True` to silence this warning and adopt the future behavior now.\n",
      "  df3.describe(include='all')\n"
     ]
    },
    {
     "data": {
      "text/html": [
       "<div>\n",
       "<style scoped>\n",
       "    .dataframe tbody tr th:only-of-type {\n",
       "        vertical-align: middle;\n",
       "    }\n",
       "\n",
       "    .dataframe tbody tr th {\n",
       "        vertical-align: top;\n",
       "    }\n",
       "\n",
       "    .dataframe thead th {\n",
       "        text-align: right;\n",
       "    }\n",
       "</style>\n",
       "<table border=\"1\" class=\"dataframe\">\n",
       "  <thead>\n",
       "    <tr style=\"text-align: right;\">\n",
       "      <th></th>\n",
       "      <th>user_id</th>\n",
       "      <th>app</th>\n",
       "      <th>signalType</th>\n",
       "      <th>product_id</th>\n",
       "      <th>query_term</th>\n",
       "      <th>createdDate_$date</th>\n",
       "      <th>seenfor</th>\n",
       "      <th>query_term_2</th>\n",
       "      <th>query_term_1</th>\n",
       "      <th>day</th>\n",
       "    </tr>\n",
       "  </thead>\n",
       "  <tbody>\n",
       "    <tr>\n",
       "      <th>count</th>\n",
       "      <td>4246</td>\n",
       "      <td>4246</td>\n",
       "      <td>4246</td>\n",
       "      <td>4246</td>\n",
       "      <td>4246</td>\n",
       "      <td>4246</td>\n",
       "      <td>2264.000000</td>\n",
       "      <td>4246</td>\n",
       "      <td>4246</td>\n",
       "      <td>4246</td>\n",
       "    </tr>\n",
       "    <tr>\n",
       "      <th>unique</th>\n",
       "      <td>8</td>\n",
       "      <td>1</td>\n",
       "      <td>5</td>\n",
       "      <td>480</td>\n",
       "      <td>8</td>\n",
       "      <td>2005</td>\n",
       "      <td>NaN</td>\n",
       "      <td>8</td>\n",
       "      <td>1</td>\n",
       "      <td>7</td>\n",
       "    </tr>\n",
       "    <tr>\n",
       "      <th>top</th>\n",
       "      <td>sachindes</td>\n",
       "      <td>NewCommerceSolr</td>\n",
       "      <td>view</td>\n",
       "      <td>0042bd96f5792677f1db0eb222972752</td>\n",
       "      <td>relatedProducts</td>\n",
       "      <td>2021-03-26 04:03:19.998000</td>\n",
       "      <td>NaN</td>\n",
       "      <td>relatedProducts</td>\n",
       "      <td>None</td>\n",
       "      <td>Friday</td>\n",
       "    </tr>\n",
       "    <tr>\n",
       "      <th>freq</th>\n",
       "      <td>2846</td>\n",
       "      <td>4246</td>\n",
       "      <td>3434</td>\n",
       "      <td>304</td>\n",
       "      <td>2238</td>\n",
       "      <td>229</td>\n",
       "      <td>NaN</td>\n",
       "      <td>2238</td>\n",
       "      <td>4246</td>\n",
       "      <td>1080</td>\n",
       "    </tr>\n",
       "    <tr>\n",
       "      <th>first</th>\n",
       "      <td>NaN</td>\n",
       "      <td>NaN</td>\n",
       "      <td>NaN</td>\n",
       "      <td>NaN</td>\n",
       "      <td>NaN</td>\n",
       "      <td>2020-11-30 05:30:47.500000</td>\n",
       "      <td>NaN</td>\n",
       "      <td>NaN</td>\n",
       "      <td>NaN</td>\n",
       "      <td>NaN</td>\n",
       "    </tr>\n",
       "    <tr>\n",
       "      <th>last</th>\n",
       "      <td>NaN</td>\n",
       "      <td>NaN</td>\n",
       "      <td>NaN</td>\n",
       "      <td>NaN</td>\n",
       "      <td>NaN</td>\n",
       "      <td>2021-05-29 05:56:44.373000</td>\n",
       "      <td>NaN</td>\n",
       "      <td>NaN</td>\n",
       "      <td>NaN</td>\n",
       "      <td>NaN</td>\n",
       "    </tr>\n",
       "    <tr>\n",
       "      <th>mean</th>\n",
       "      <td>NaN</td>\n",
       "      <td>NaN</td>\n",
       "      <td>NaN</td>\n",
       "      <td>NaN</td>\n",
       "      <td>NaN</td>\n",
       "      <td>NaN</td>\n",
       "      <td>186.855345</td>\n",
       "      <td>NaN</td>\n",
       "      <td>NaN</td>\n",
       "      <td>NaN</td>\n",
       "    </tr>\n",
       "    <tr>\n",
       "      <th>std</th>\n",
       "      <td>NaN</td>\n",
       "      <td>NaN</td>\n",
       "      <td>NaN</td>\n",
       "      <td>NaN</td>\n",
       "      <td>NaN</td>\n",
       "      <td>NaN</td>\n",
       "      <td>1698.762548</td>\n",
       "      <td>NaN</td>\n",
       "      <td>NaN</td>\n",
       "      <td>NaN</td>\n",
       "    </tr>\n",
       "    <tr>\n",
       "      <th>min</th>\n",
       "      <td>NaN</td>\n",
       "      <td>NaN</td>\n",
       "      <td>NaN</td>\n",
       "      <td>NaN</td>\n",
       "      <td>NaN</td>\n",
       "      <td>NaN</td>\n",
       "      <td>0.000000</td>\n",
       "      <td>NaN</td>\n",
       "      <td>NaN</td>\n",
       "      <td>NaN</td>\n",
       "    </tr>\n",
       "    <tr>\n",
       "      <th>25%</th>\n",
       "      <td>NaN</td>\n",
       "      <td>NaN</td>\n",
       "      <td>NaN</td>\n",
       "      <td>NaN</td>\n",
       "      <td>NaN</td>\n",
       "      <td>NaN</td>\n",
       "      <td>0.000000</td>\n",
       "      <td>NaN</td>\n",
       "      <td>NaN</td>\n",
       "      <td>NaN</td>\n",
       "    </tr>\n",
       "    <tr>\n",
       "      <th>50%</th>\n",
       "      <td>NaN</td>\n",
       "      <td>NaN</td>\n",
       "      <td>NaN</td>\n",
       "      <td>NaN</td>\n",
       "      <td>NaN</td>\n",
       "      <td>NaN</td>\n",
       "      <td>0.000000</td>\n",
       "      <td>NaN</td>\n",
       "      <td>NaN</td>\n",
       "      <td>NaN</td>\n",
       "    </tr>\n",
       "    <tr>\n",
       "      <th>75%</th>\n",
       "      <td>NaN</td>\n",
       "      <td>NaN</td>\n",
       "      <td>NaN</td>\n",
       "      <td>NaN</td>\n",
       "      <td>NaN</td>\n",
       "      <td>NaN</td>\n",
       "      <td>1.200000</td>\n",
       "      <td>NaN</td>\n",
       "      <td>NaN</td>\n",
       "      <td>NaN</td>\n",
       "    </tr>\n",
       "    <tr>\n",
       "      <th>max</th>\n",
       "      <td>NaN</td>\n",
       "      <td>NaN</td>\n",
       "      <td>NaN</td>\n",
       "      <td>NaN</td>\n",
       "      <td>NaN</td>\n",
       "      <td>NaN</td>\n",
       "      <td>21084.600000</td>\n",
       "      <td>NaN</td>\n",
       "      <td>NaN</td>\n",
       "      <td>NaN</td>\n",
       "    </tr>\n",
       "  </tbody>\n",
       "</table>\n",
       "</div>"
      ],
      "text/plain": [
       "          user_id              app signalType  \\\n",
       "count        4246             4246       4246   \n",
       "unique          8                1          5   \n",
       "top     sachindes  NewCommerceSolr       view   \n",
       "freq         2846             4246       3434   \n",
       "first         NaN              NaN        NaN   \n",
       "last          NaN              NaN        NaN   \n",
       "mean          NaN              NaN        NaN   \n",
       "std           NaN              NaN        NaN   \n",
       "min           NaN              NaN        NaN   \n",
       "25%           NaN              NaN        NaN   \n",
       "50%           NaN              NaN        NaN   \n",
       "75%           NaN              NaN        NaN   \n",
       "max           NaN              NaN        NaN   \n",
       "\n",
       "                              product_id       query_term  \\\n",
       "count                               4246             4246   \n",
       "unique                               480                8   \n",
       "top     0042bd96f5792677f1db0eb222972752  relatedProducts   \n",
       "freq                                 304             2238   \n",
       "first                                NaN              NaN   \n",
       "last                                 NaN              NaN   \n",
       "mean                                 NaN              NaN   \n",
       "std                                  NaN              NaN   \n",
       "min                                  NaN              NaN   \n",
       "25%                                  NaN              NaN   \n",
       "50%                                  NaN              NaN   \n",
       "75%                                  NaN              NaN   \n",
       "max                                  NaN              NaN   \n",
       "\n",
       "                 createdDate_$date       seenfor     query_term_2  \\\n",
       "count                         4246   2264.000000             4246   \n",
       "unique                        2005           NaN                8   \n",
       "top     2021-03-26 04:03:19.998000           NaN  relatedProducts   \n",
       "freq                           229           NaN             2238   \n",
       "first   2020-11-30 05:30:47.500000           NaN              NaN   \n",
       "last    2021-05-29 05:56:44.373000           NaN              NaN   \n",
       "mean                           NaN    186.855345              NaN   \n",
       "std                            NaN   1698.762548              NaN   \n",
       "min                            NaN      0.000000              NaN   \n",
       "25%                            NaN      0.000000              NaN   \n",
       "50%                            NaN      0.000000              NaN   \n",
       "75%                            NaN      1.200000              NaN   \n",
       "max                            NaN  21084.600000              NaN   \n",
       "\n",
       "       query_term_1     day  \n",
       "count          4246    4246  \n",
       "unique            1       7  \n",
       "top            None  Friday  \n",
       "freq           4246    1080  \n",
       "first           NaN     NaN  \n",
       "last            NaN     NaN  \n",
       "mean            NaN     NaN  \n",
       "std             NaN     NaN  \n",
       "min             NaN     NaN  \n",
       "25%             NaN     NaN  \n",
       "50%             NaN     NaN  \n",
       "75%             NaN     NaN  \n",
       "max             NaN     NaN  "
      ]
     },
     "execution_count": 252,
     "metadata": {},
     "output_type": "execute_result"
    }
   ],
   "source": [
    "df3.describe(include='all')"
   ]
  },
  {
   "cell_type": "code",
   "execution_count": 253,
   "id": "973d842b",
   "metadata": {},
   "outputs": [
    {
     "data": {
      "text/plain": [
       "<Figure size 720x720 with 0 Axes>"
      ]
     },
     "metadata": {},
     "output_type": "display_data"
    },
    {
     "data": {
      "image/png": "[encoded data removed]",
      "text/plain": [
       "<Figure size 537.1x360 with 1 Axes>"
      ]
     },
     "metadata": {
      "needs_background": "light"
     },
     "output_type": "display_data"
    }
   ],
   "source": [
    "plt.figure(figsize=(10,10))\n",
    "sns.catplot(x = 'signalType', data = df3 ,kind = 'count' , hue = 'query_term' , )\n",
    "plt.show()"
   ]
  },
  {
   "cell_type": "code",
   "execution_count": 254,
   "id": "55638c6b",
   "metadata": {},
   "outputs": [
    {
     "data": {
      "text/plain": [
       "0"
      ]
     },
     "execution_count": 254,
     "metadata": {},
     "output_type": "execute_result"
    }
   ],
   "source": [
    "df3.signalType.isna().sum()"
   ]
  },
  {
   "cell_type": "code",
   "execution_count": 255,
   "id": "68f97d79",
   "metadata": {},
   "outputs": [],
   "source": [
    "sns.catplot?"
   ]
  },
  {
   "cell_type": "code",
   "execution_count": null,
   "id": "bcfd5556",
   "metadata": {},
   "outputs": [],
   "source": []
  },
  {
   "cell_type": "code",
   "execution_count": null,
   "id": "0f8d2a2a",
   "metadata": {},
   "outputs": [],
   "source": []
  },
  {
   "cell_type": "code",
   "execution_count": 256,
   "id": "346918a8",
   "metadata": {},
   "outputs": [],
   "source": [
    "s1 = ['relatedProducts','UserRecommend','Promotions','FeaturedProduct','BestSellers','NewArrival',\n",
    "      'Recommend','ItemABRecommendation']\n",
    "#df4 = df2[df2['query_term_2'] == s1[0]]\n",
    "for i in range(len(s1)) :\n",
    "    df4_1 = df2[df2['query_term_2'] == s1[i]]\n",
    "    df4 = df4.append(df4_1)"
   ]
  },
  {
   "cell_type": "code",
   "execution_count": 257,
   "id": "83ffe5ce",
   "metadata": {},
   "outputs": [
    {
     "data": {
      "text/html": [
       "<div>\n",
       "<style scoped>\n",
       "    .dataframe tbody tr th:only-of-type {\n",
       "        vertical-align: middle;\n",
       "    }\n",
       "\n",
       "    .dataframe tbody tr th {\n",
       "        vertical-align: top;\n",
       "    }\n",
       "\n",
       "    .dataframe thead th {\n",
       "        text-align: right;\n",
       "    }\n",
       "</style>\n",
       "<table border=\"1\" class=\"dataframe\">\n",
       "  <thead>\n",
       "    <tr style=\"text-align: right;\">\n",
       "      <th></th>\n",
       "      <th>user_id</th>\n",
       "      <th>app</th>\n",
       "      <th>signalType</th>\n",
       "      <th>product_id</th>\n",
       "      <th>query_term</th>\n",
       "      <th>createdDate_$date</th>\n",
       "      <th>seenfor</th>\n",
       "      <th>query_term_2</th>\n",
       "      <th>query_term_1</th>\n",
       "      <th>seenfor_1</th>\n",
       "      <th>day</th>\n",
       "    </tr>\n",
       "  </thead>\n",
       "  <tbody>\n",
       "    <tr>\n",
       "      <th>0</th>\n",
       "      <td>sachindes</td>\n",
       "      <td>NewCommerceSolr</td>\n",
       "      <td>view</td>\n",
       "      <td>4716e8dfbfa60238573f92ebc4ea7a41</td>\n",
       "      <td>relatedProducts</td>\n",
       "      <td>2021-03-26 08:39:46.188</td>\n",
       "      <td>3.3</td>\n",
       "      <td>relatedProducts</td>\n",
       "      <td>None</td>\n",
       "      <td>15 sec viewed</td>\n",
       "      <td>NaN</td>\n",
       "    </tr>\n",
       "    <tr>\n",
       "      <th>1</th>\n",
       "      <td>sachindes</td>\n",
       "      <td>NewCommerceSolr</td>\n",
       "      <td>view</td>\n",
       "      <td>a171c2ceb3929a3672fe1899bd85bd56</td>\n",
       "      <td>relatedProducts</td>\n",
       "      <td>2021-03-26 08:39:46.188</td>\n",
       "      <td>22.4</td>\n",
       "      <td>relatedProducts</td>\n",
       "      <td>None</td>\n",
       "      <td>41.4 min viewed</td>\n",
       "      <td>NaN</td>\n",
       "    </tr>\n",
       "    <tr>\n",
       "      <th>2</th>\n",
       "      <td>sachindes</td>\n",
       "      <td>NewCommerceSolr</td>\n",
       "      <td>view</td>\n",
       "      <td>1f04489457d060159339b8d7ccf83fea</td>\n",
       "      <td>relatedProducts</td>\n",
       "      <td>2021-03-26 08:39:46.188</td>\n",
       "      <td>66.3</td>\n",
       "      <td>relatedProducts</td>\n",
       "      <td>None</td>\n",
       "      <td>more than that (anamoly)</td>\n",
       "      <td>NaN</td>\n",
       "    </tr>\n",
       "  </tbody>\n",
       "</table>\n",
       "</div>"
      ],
      "text/plain": [
       "     user_id              app signalType                        product_id  \\\n",
       "0  sachindes  NewCommerceSolr       view  4716e8dfbfa60238573f92ebc4ea7a41   \n",
       "1  sachindes  NewCommerceSolr       view  a171c2ceb3929a3672fe1899bd85bd56   \n",
       "2  sachindes  NewCommerceSolr       view  1f04489457d060159339b8d7ccf83fea   \n",
       "\n",
       "        query_term       createdDate_$date  seenfor     query_term_2  \\\n",
       "0  relatedProducts 2021-03-26 08:39:46.188      3.3  relatedProducts   \n",
       "1  relatedProducts 2021-03-26 08:39:46.188     22.4  relatedProducts   \n",
       "2  relatedProducts 2021-03-26 08:39:46.188     66.3  relatedProducts   \n",
       "\n",
       "  query_term_1                 seenfor_1  day  \n",
       "0         None             15 sec viewed  NaN  \n",
       "1         None           41.4 min viewed  NaN  \n",
       "2         None  more than that (anamoly)  NaN  "
      ]
     },
     "execution_count": 257,
     "metadata": {},
     "output_type": "execute_result"
    }
   ],
   "source": [
    "df4.head(3)"
   ]
  },
  {
   "cell_type": "code",
   "execution_count": 258,
   "id": "34de48e0",
   "metadata": {},
   "outputs": [
    {
     "name": "stderr",
     "output_type": "stream",
     "text": [
      "<ipython-input-258-6487b3ad519b>:1: FutureWarning: Treating datetime data as categorical rather than numeric in `.describe` is deprecated and will be removed in a future version of pandas. Specify `datetime_is_numeric=True` to silence this warning and adopt the future behavior now.\n",
      "  df4.describe(include='all')\n"
     ]
    },
    {
     "data": {
      "text/html": [
       "<div>\n",
       "<style scoped>\n",
       "    .dataframe tbody tr th:only-of-type {\n",
       "        vertical-align: middle;\n",
       "    }\n",
       "\n",
       "    .dataframe tbody tr th {\n",
       "        vertical-align: top;\n",
       "    }\n",
       "\n",
       "    .dataframe thead th {\n",
       "        text-align: right;\n",
       "    }\n",
       "</style>\n",
       "<table border=\"1\" class=\"dataframe\">\n",
       "  <thead>\n",
       "    <tr style=\"text-align: right;\">\n",
       "      <th></th>\n",
       "      <th>user_id</th>\n",
       "      <th>app</th>\n",
       "      <th>signalType</th>\n",
       "      <th>product_id</th>\n",
       "      <th>query_term</th>\n",
       "      <th>createdDate_$date</th>\n",
       "      <th>seenfor</th>\n",
       "      <th>query_term_2</th>\n",
       "      <th>query_term_1</th>\n",
       "      <th>seenfor_1</th>\n",
       "      <th>day</th>\n",
       "    </tr>\n",
       "  </thead>\n",
       "  <tbody>\n",
       "    <tr>\n",
       "      <th>count</th>\n",
       "      <td>1037</td>\n",
       "      <td>1037</td>\n",
       "      <td>1037</td>\n",
       "      <td>1037</td>\n",
       "      <td>1037</td>\n",
       "      <td>1037</td>\n",
       "      <td>1037.000000</td>\n",
       "      <td>1037</td>\n",
       "      <td>1037</td>\n",
       "      <td>1037</td>\n",
       "      <td>432</td>\n",
       "    </tr>\n",
       "    <tr>\n",
       "      <th>unique</th>\n",
       "      <td>4</td>\n",
       "      <td>1</td>\n",
       "      <td>1</td>\n",
       "      <td>238</td>\n",
       "      <td>8</td>\n",
       "      <td>290</td>\n",
       "      <td>NaN</td>\n",
       "      <td>8</td>\n",
       "      <td>1</td>\n",
       "      <td>14</td>\n",
       "      <td>7</td>\n",
       "    </tr>\n",
       "    <tr>\n",
       "      <th>top</th>\n",
       "      <td>sachindes</td>\n",
       "      <td>NewCommerceSolr</td>\n",
       "      <td>view</td>\n",
       "      <td>fe6ae3431256fdfc99117bf11f8b4278</td>\n",
       "      <td>relatedProducts</td>\n",
       "      <td>2021-04-30 06:44:53.648000</td>\n",
       "      <td>NaN</td>\n",
       "      <td>relatedProducts</td>\n",
       "      <td>None</td>\n",
       "      <td>more than that (anamoly)</td>\n",
       "      <td>Friday</td>\n",
       "    </tr>\n",
       "    <tr>\n",
       "      <th>freq</th>\n",
       "      <td>881</td>\n",
       "      <td>1037</td>\n",
       "      <td>1037</td>\n",
       "      <td>52</td>\n",
       "      <td>519</td>\n",
       "      <td>64</td>\n",
       "      <td>NaN</td>\n",
       "      <td>519</td>\n",
       "      <td>1037</td>\n",
       "      <td>358</td>\n",
       "      <td>118</td>\n",
       "    </tr>\n",
       "    <tr>\n",
       "      <th>first</th>\n",
       "      <td>NaN</td>\n",
       "      <td>NaN</td>\n",
       "      <td>NaN</td>\n",
       "      <td>NaN</td>\n",
       "      <td>NaN</td>\n",
       "      <td>2021-03-26 08:39:46.188000</td>\n",
       "      <td>NaN</td>\n",
       "      <td>NaN</td>\n",
       "      <td>NaN</td>\n",
       "      <td>NaN</td>\n",
       "      <td>NaN</td>\n",
       "    </tr>\n",
       "    <tr>\n",
       "      <th>last</th>\n",
       "      <td>NaN</td>\n",
       "      <td>NaN</td>\n",
       "      <td>NaN</td>\n",
       "      <td>NaN</td>\n",
       "      <td>NaN</td>\n",
       "      <td>2021-05-29 05:56:44.373000</td>\n",
       "      <td>NaN</td>\n",
       "      <td>NaN</td>\n",
       "      <td>NaN</td>\n",
       "      <td>NaN</td>\n",
       "      <td>NaN</td>\n",
       "    </tr>\n",
       "    <tr>\n",
       "      <th>mean</th>\n",
       "      <td>NaN</td>\n",
       "      <td>NaN</td>\n",
       "      <td>NaN</td>\n",
       "      <td>NaN</td>\n",
       "      <td>NaN</td>\n",
       "      <td>NaN</td>\n",
       "      <td>26.563067</td>\n",
       "      <td>NaN</td>\n",
       "      <td>NaN</td>\n",
       "      <td>NaN</td>\n",
       "      <td>NaN</td>\n",
       "    </tr>\n",
       "    <tr>\n",
       "      <th>std</th>\n",
       "      <td>NaN</td>\n",
       "      <td>NaN</td>\n",
       "      <td>NaN</td>\n",
       "      <td>NaN</td>\n",
       "      <td>NaN</td>\n",
       "      <td>NaN</td>\n",
       "      <td>34.154433</td>\n",
       "      <td>NaN</td>\n",
       "      <td>NaN</td>\n",
       "      <td>NaN</td>\n",
       "      <td>NaN</td>\n",
       "    </tr>\n",
       "    <tr>\n",
       "      <th>min</th>\n",
       "      <td>NaN</td>\n",
       "      <td>NaN</td>\n",
       "      <td>NaN</td>\n",
       "      <td>NaN</td>\n",
       "      <td>NaN</td>\n",
       "      <td>NaN</td>\n",
       "      <td>0.100000</td>\n",
       "      <td>NaN</td>\n",
       "      <td>NaN</td>\n",
       "      <td>NaN</td>\n",
       "      <td>NaN</td>\n",
       "    </tr>\n",
       "    <tr>\n",
       "      <th>25%</th>\n",
       "      <td>NaN</td>\n",
       "      <td>NaN</td>\n",
       "      <td>NaN</td>\n",
       "      <td>NaN</td>\n",
       "      <td>NaN</td>\n",
       "      <td>NaN</td>\n",
       "      <td>1.100000</td>\n",
       "      <td>NaN</td>\n",
       "      <td>NaN</td>\n",
       "      <td>NaN</td>\n",
       "      <td>NaN</td>\n",
       "    </tr>\n",
       "    <tr>\n",
       "      <th>50%</th>\n",
       "      <td>NaN</td>\n",
       "      <td>NaN</td>\n",
       "      <td>NaN</td>\n",
       "      <td>NaN</td>\n",
       "      <td>NaN</td>\n",
       "      <td>NaN</td>\n",
       "      <td>11.400000</td>\n",
       "      <td>NaN</td>\n",
       "      <td>NaN</td>\n",
       "      <td>NaN</td>\n",
       "      <td>NaN</td>\n",
       "    </tr>\n",
       "    <tr>\n",
       "      <th>75%</th>\n",
       "      <td>NaN</td>\n",
       "      <td>NaN</td>\n",
       "      <td>NaN</td>\n",
       "      <td>NaN</td>\n",
       "      <td>NaN</td>\n",
       "      <td>NaN</td>\n",
       "      <td>38.000000</td>\n",
       "      <td>NaN</td>\n",
       "      <td>NaN</td>\n",
       "      <td>NaN</td>\n",
       "      <td>NaN</td>\n",
       "    </tr>\n",
       "    <tr>\n",
       "      <th>max</th>\n",
       "      <td>NaN</td>\n",
       "      <td>NaN</td>\n",
       "      <td>NaN</td>\n",
       "      <td>NaN</td>\n",
       "      <td>NaN</td>\n",
       "      <td>NaN</td>\n",
       "      <td>141.600000</td>\n",
       "      <td>NaN</td>\n",
       "      <td>NaN</td>\n",
       "      <td>NaN</td>\n",
       "      <td>NaN</td>\n",
       "    </tr>\n",
       "  </tbody>\n",
       "</table>\n",
       "</div>"
      ],
      "text/plain": [
       "          user_id              app signalType  \\\n",
       "count        1037             1037       1037   \n",
       "unique          4                1          1   \n",
       "top     sachindes  NewCommerceSolr       view   \n",
       "freq          881             1037       1037   \n",
       "first         NaN              NaN        NaN   \n",
       "last          NaN              NaN        NaN   \n",
       "mean          NaN              NaN        NaN   \n",
       "std           NaN              NaN        NaN   \n",
       "min           NaN              NaN        NaN   \n",
       "25%           NaN              NaN        NaN   \n",
       "50%           NaN              NaN        NaN   \n",
       "75%           NaN              NaN        NaN   \n",
       "max           NaN              NaN        NaN   \n",
       "\n",
       "                              product_id       query_term  \\\n",
       "count                               1037             1037   \n",
       "unique                               238                8   \n",
       "top     fe6ae3431256fdfc99117bf11f8b4278  relatedProducts   \n",
       "freq                                  52              519   \n",
       "first                                NaN              NaN   \n",
       "last                                 NaN              NaN   \n",
       "mean                                 NaN              NaN   \n",
       "std                                  NaN              NaN   \n",
       "min                                  NaN              NaN   \n",
       "25%                                  NaN              NaN   \n",
       "50%                                  NaN              NaN   \n",
       "75%                                  NaN              NaN   \n",
       "max                                  NaN              NaN   \n",
       "\n",
       "                 createdDate_$date      seenfor     query_term_2 query_term_1  \\\n",
       "count                         1037  1037.000000             1037         1037   \n",
       "unique                         290          NaN                8            1   \n",
       "top     2021-04-30 06:44:53.648000          NaN  relatedProducts         None   \n",
       "freq                            64          NaN              519         1037   \n",
       "first   2021-03-26 08:39:46.188000          NaN              NaN          NaN   \n",
       "last    2021-05-29 05:56:44.373000          NaN              NaN          NaN   \n",
       "mean                           NaN    26.563067              NaN          NaN   \n",
       "std                            NaN    34.154433              NaN          NaN   \n",
       "min                            NaN     0.100000              NaN          NaN   \n",
       "25%                            NaN     1.100000              NaN          NaN   \n",
       "50%                            NaN    11.400000              NaN          NaN   \n",
       "75%                            NaN    38.000000              NaN          NaN   \n",
       "max                            NaN   141.600000              NaN          NaN   \n",
       "\n",
       "                       seenfor_1     day  \n",
       "count                       1037     432  \n",
       "unique                        14       7  \n",
       "top     more than that (anamoly)  Friday  \n",
       "freq                         358     118  \n",
       "first                        NaN     NaN  \n",
       "last                         NaN     NaN  \n",
       "mean                         NaN     NaN  \n",
       "std                          NaN     NaN  \n",
       "min                          NaN     NaN  \n",
       "25%                          NaN     NaN  \n",
       "50%                          NaN     NaN  \n",
       "75%                          NaN     NaN  \n",
       "max                          NaN     NaN  "
      ]
     },
     "execution_count": 258,
     "metadata": {},
     "output_type": "execute_result"
    }
   ],
   "source": [
    " df4.describe(include='all')"
   ]
  },
  {
   "cell_type": "code",
   "execution_count": 259,
   "id": "aba7d71d",
   "metadata": {},
   "outputs": [
    {
     "data": {
      "image/png": "[encoded data removed]",
      "text/plain": [
       "<Figure size 720x360 with 1 Axes>"
      ]
     },
     "metadata": {
      "needs_background": "light"
     },
     "output_type": "display_data"
    }
   ],
   "source": [
    "ax = sns.relplot(y = df4.seenfor  , x = df4.index ,kind='scatter', hue = df4.query_term_2 , palette = 'deep' )\n",
    "plt.ylabel('in seconds')\n",
    "ax.fig.set_figwidth(10)\n",
    "ax.fig.set_figheight(5)\n",
    "plt.xlabel('index')\n",
    "plt.show()"
   ]
  },
  {
   "cell_type": "code",
   "execution_count": 260,
   "id": "42853e12",
   "metadata": {},
   "outputs": [],
   "source": [
    "def quartiles(x):\n",
    "    if x <= 1.4: return \" 1.4 sec viewed\"\n",
    "    elif x <= 14.9 : return \" 15 sec viewed\"\n",
    "    elif x <= 41.4 : return \" 41.4 min viewed\"\n",
    "    else: return \"more than that (anamoly)\""
   ]
  },
  {
   "cell_type": "code",
   "execution_count": 261,
   "id": "564dab7b",
   "metadata": {},
   "outputs": [],
   "source": [
    "df4['seenfor_1'] = df4['seenfor'].apply(quartiles)"
   ]
  },
  {
   "cell_type": "code",
   "execution_count": 268,
   "id": "6d27bf62",
   "metadata": {},
   "outputs": [
    {
     "data": {
      "text/plain": [
       "Text(0.5, 0, 'in seconds')"
      ]
     },
     "execution_count": 268,
     "metadata": {},
     "output_type": "execute_result"
    },
    {
     "data": {
      "image/png": "[encoded data removed]",
      "text/plain": [
       "<Figure size 720x720 with 1 Axes>"
      ]
     },
     "metadata": {
      "needs_background": "light"
     },
     "output_type": "display_data"
    }
   ],
   "source": [
    "plt.figure(figsize=(10,10))\n",
    "sns.countplot(x = df4.seenfor_1, hue = df4.day) # week starts form monday\n",
    "plt.xlabel('in seconds')"
   ]
  },
  {
   "cell_type": "code",
   "execution_count": 272,
   "id": "583c43d4",
   "metadata": {},
   "outputs": [
    {
     "data": {
      "text/plain": [
       "Text(0.5, 0, 'in seconds')"
      ]
     },
     "execution_count": 272,
     "metadata": {},
     "output_type": "execute_result"
    },
    {
     "data": {
      "image/png": "[encoded data removed]",
      "text/plain": [
       "<Figure size 720x720 with 1 Axes>"
      ]
     },
     "metadata": {
      "needs_background": "light"
     },
     "output_type": "display_data"
    }
   ],
   "source": [
    "plt.figure(figsize=(10,10))\n",
    "sns.countplot(hue = df4.seenfor_1, y = df4.query_term)\n",
    "plt.xlabel('in seconds')"
   ]
  },
  {
   "cell_type": "code",
   "execution_count": 285,
   "id": "e2cfdd1e",
   "metadata": {},
   "outputs": [
    {
     "data": {
      "text/plain": [
       "<Figure size 2160x2160 with 0 Axes>"
      ]
     },
     "metadata": {},
     "output_type": "display_data"
    },
    {
     "data": {
      "image/png": "[encoded data removed]",
      "text/plain": [
       "<Figure size 720x360 with 4 Axes>"
      ]
     },
     "metadata": {
      "needs_background": "light"
     },
     "output_type": "display_data"
    }
   ],
   "source": [
    "plt.figure(figsize=(30,30))\n",
    "ax = sns.catplot(y = 'day', data = df4 ,kind = 'count' , hue = 'query_term' , col = 'seenfor_1' ,legend_out=False)\n",
    "ax.fig.set_figwidth(10)\n",
    "ax.fig.set_figheight(5)\n",
    "plt.tick_params(axis='x', labelsize=15)\n",
    "plt.tick_params(axis='y', labelsize=12)\n",
    "#plt.legend(loc=1)\n",
    "plt.show()"
   ]
  },
  {
   "cell_type": "code",
   "execution_count": 286,
   "id": "c19dd531",
   "metadata": {},
   "outputs": [],
   "source": [
    "sns.catplot?"
   ]
  },
  {
   "cell_type": "code",
   "execution_count": null,
   "id": "3bab4fe2",
   "metadata": {},
   "outputs": [],
   "source": []
  }
 ],
 "metadata": {
  "kernelspec": {
   "display_name": "Python 3",
   "language": "python",
   "name": "python3"
  },
  "language_info": {
   "codemirror_mode": {
    "name": "ipython",
    "version": 3
   },
   "file_extension": ".py",
   "mimetype": "text/x-python",
   "name": "python",
   "nbconvert_exporter": "python",
   "pygments_lexer": "ipython3",
   "version": "3.8.8"
  }
 },
 "nbformat": 4,
 "nbformat_minor": 5
}
